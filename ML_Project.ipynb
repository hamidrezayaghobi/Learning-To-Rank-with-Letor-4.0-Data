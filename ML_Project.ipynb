{
 "cells": [
  {
   "cell_type": "markdown",
   "id": "5934d2c7",
   "metadata": {},
   "source": [
    "Hamidreza Yaghoubi Araghi 98109786\n",
    "\n",
    "Alireza Heidari 98109731\n",
    "\n",
    "Ali Mehrabani 98109753\n",
    "\n",
    "Mohammad Khodadadi 98106434"
   ]
  },
  {
   "cell_type": "markdown",
   "id": "2027a7c0",
   "metadata": {},
   "source": [
    "# Initialize"
   ]
  },
  {
   "cell_type": "markdown",
   "id": "2cda2f7d",
   "metadata": {},
   "source": [
    "## Import"
   ]
  },
  {
   "cell_type": "code",
   "execution_count": 1,
   "id": "d6ca8834",
   "metadata": {
    "ExecuteTime": {
     "end_time": "2022-06-28T18:52:40.816179Z",
     "start_time": "2022-06-28T18:52:39.654902Z"
    }
   },
   "outputs": [],
   "source": [
    "import os\n",
    "import matplotlib.pyplot as plt\n",
    "import matplotlib.image as mpimg\n",
    "import pandas as pd\n",
    "import numpy as np\n",
    "import seaborn as sns\n",
    "from bioinfokit.visuz import cluster\n",
    "import warnings\n",
    "\n",
    "from imblearn.over_sampling import SMOTE\n",
    "from sklearn.preprocessing import StandardScaler\n",
    "from sklearn.manifold import TSNE\n",
    "from sklearn.decomposition import PCA\n",
    "from sklearn.naive_bayes import GaussianNB\n",
    "from sklearn.linear_model import SGDRegressor\n",
    "from sklearn.linear_model import LinearRegression\n",
    "from sklearn.linear_model import LogisticRegression\n",
    "from sklearn.metrics import mean_squared_error\n",
    "from sklearn.model_selection import train_test_split\n",
    "from pyspark.sql import SparkSession, Row, functions as F "
   ]
  },
  {
   "cell_type": "markdown",
   "id": "b186fd78",
   "metadata": {},
   "source": [
    "## Config"
   ]
  },
  {
   "cell_type": "code",
   "execution_count": 2,
   "id": "1a8d2a4b",
   "metadata": {
    "ExecuteTime": {
     "end_time": "2022-06-28T18:52:40.820135Z",
     "start_time": "2022-06-28T18:52:40.817509Z"
    }
   },
   "outputs": [],
   "source": [
    "SAMPLE_FILE_NUMBER = [1, 2, 3]\n",
    "DATA_PATH_FROMAT = './MQ2007/S{}.txt'\n",
    "DATA_PATHS = [DATA_PATH_FROMAT.format(number) for number in SAMPLE_FILE_NUMBER]\n",
    "\n",
    "TEST_SIZE = 0.20\n",
    "FEATURE_COUNT = 46\n",
    "warnings.filterwarnings('ignore')\n",
    "\n",
    "RADNOM_STATE = 42"
   ]
  },
  {
   "cell_type": "markdown",
   "id": "870fa6d4",
   "metadata": {},
   "source": [
    "## Spark"
   ]
  },
  {
   "cell_type": "code",
   "execution_count": 3,
   "id": "2b1bd368",
   "metadata": {
    "ExecuteTime": {
     "end_time": "2022-06-28T18:52:40.824932Z",
     "start_time": "2022-06-28T18:52:40.821643Z"
    }
   },
   "outputs": [],
   "source": [
    "SPARK_THREADS = 12\n",
    "SPARK_MEMORY = 8\n",
    "CHECKPOINT_DIR = os.path.expanduser('~/tmp/spark_checkpoint') "
   ]
  },
  {
   "cell_type": "code",
   "execution_count": 4,
   "id": "6b80a33d",
   "metadata": {
    "ExecuteTime": {
     "end_time": "2022-06-28T18:52:44.932139Z",
     "start_time": "2022-06-28T18:52:40.826400Z"
    }
   },
   "outputs": [],
   "source": [
    "spark = (\n",
    "    SparkSession \n",
    "    .builder \n",
    "    .master(\"local[{}]\".format(SPARK_THREADS)) \n",
    "    .config(\"spark.driver.memory\", \"{}g\".format(SPARK_MEMORY),)\n",
    "    .config('spark.sql.session.timeZone', 'Asia/Tehran')\n",
    "    .getOrCreate()\n",
    ")\n",
    "\n",
    "sc = spark.sparkContext\n",
    "sc.setCheckpointDir(CHECKPOINT_DIR)"
   ]
  },
  {
   "cell_type": "markdown",
   "id": "038ab639",
   "metadata": {},
   "source": [
    "## Plot"
   ]
  },
  {
   "cell_type": "code",
   "execution_count": 5,
   "id": "6007ddfa",
   "metadata": {
    "ExecuteTime": {
     "end_time": "2022-06-28T18:52:44.935813Z",
     "start_time": "2022-06-28T18:52:44.933532Z"
    }
   },
   "outputs": [],
   "source": [
    "FIGSIZE = (13, 9)"
   ]
  },
  {
   "cell_type": "markdown",
   "id": "3ce31f74",
   "metadata": {},
   "source": [
    "## Ohter"
   ]
  },
  {
   "cell_type": "code",
   "execution_count": 6,
   "id": "705ddf53",
   "metadata": {
    "ExecuteTime": {
     "end_time": "2022-06-28T18:52:44.940438Z",
     "start_time": "2022-06-28T18:52:44.937695Z"
    }
   },
   "outputs": [],
   "source": [
    "def summery(pdf):\n",
    "    display(pdf.head(5))"
   ]
  },
  {
   "cell_type": "markdown",
   "id": "a1072b8c",
   "metadata": {},
   "source": [
    "# Data Preparation"
   ]
  },
  {
   "cell_type": "markdown",
   "id": "e3f02d0b",
   "metadata": {},
   "source": [
    "## Load Data"
   ]
  },
  {
   "cell_type": "code",
   "execution_count": 7,
   "id": "d401c33d",
   "metadata": {
    "ExecuteTime": {
     "end_time": "2022-06-28T18:52:45.579394Z",
     "start_time": "2022-06-28T18:52:44.941999Z"
    }
   },
   "outputs": [
    {
     "data": {
      "text/html": [
       "<div>\n",
       "<style scoped>\n",
       "    .dataframe tbody tr th:only-of-type {\n",
       "        vertical-align: middle;\n",
       "    }\n",
       "\n",
       "    .dataframe tbody tr th {\n",
       "        vertical-align: top;\n",
       "    }\n",
       "\n",
       "    .dataframe thead th {\n",
       "        text-align: right;\n",
       "    }\n",
       "</style>\n",
       "<table border=\"1\" class=\"dataframe\">\n",
       "  <thead>\n",
       "    <tr style=\"text-align: right;\">\n",
       "      <th></th>\n",
       "      <th>0</th>\n",
       "      <th>1</th>\n",
       "      <th>2</th>\n",
       "      <th>3</th>\n",
       "      <th>4</th>\n",
       "      <th>5</th>\n",
       "      <th>6</th>\n",
       "      <th>7</th>\n",
       "      <th>8</th>\n",
       "      <th>9</th>\n",
       "      <th>...</th>\n",
       "      <th>47</th>\n",
       "      <th>48</th>\n",
       "      <th>49</th>\n",
       "      <th>50</th>\n",
       "      <th>51</th>\n",
       "      <th>52</th>\n",
       "      <th>53</th>\n",
       "      <th>54</th>\n",
       "      <th>55</th>\n",
       "      <th>56</th>\n",
       "    </tr>\n",
       "  </thead>\n",
       "  <tbody>\n",
       "    <tr>\n",
       "      <th>0</th>\n",
       "      <td>0</td>\n",
       "      <td>qid:10</td>\n",
       "      <td>1:0.000000</td>\n",
       "      <td>2:0.000000</td>\n",
       "      <td>3:0.000000</td>\n",
       "      <td>4:0.000000</td>\n",
       "      <td>5:0.000000</td>\n",
       "      <td>6:0.000000</td>\n",
       "      <td>7:0.000000</td>\n",
       "      <td>8:0.000000</td>\n",
       "      <td>...</td>\n",
       "      <td>46:0.000000</td>\n",
       "      <td>#docid</td>\n",
       "      <td>=</td>\n",
       "      <td>GX000-00-0000000</td>\n",
       "      <td>inc</td>\n",
       "      <td>=</td>\n",
       "      <td>1.000000</td>\n",
       "      <td>prob</td>\n",
       "      <td>=</td>\n",
       "      <td>0.024691</td>\n",
       "    </tr>\n",
       "    <tr>\n",
       "      <th>1</th>\n",
       "      <td>1</td>\n",
       "      <td>qid:10</td>\n",
       "      <td>1:0.031310</td>\n",
       "      <td>2:0.666667</td>\n",
       "      <td>3:0.500000</td>\n",
       "      <td>4:0.166667</td>\n",
       "      <td>5:0.033206</td>\n",
       "      <td>6:0.000000</td>\n",
       "      <td>7:0.000000</td>\n",
       "      <td>8:0.000000</td>\n",
       "      <td>...</td>\n",
       "      <td>46:0.000000</td>\n",
       "      <td>#docid</td>\n",
       "      <td>=</td>\n",
       "      <td>GX000-24-12369390</td>\n",
       "      <td>inc</td>\n",
       "      <td>=</td>\n",
       "      <td>0.600319</td>\n",
       "      <td>prob</td>\n",
       "      <td>=</td>\n",
       "      <td>0.416367</td>\n",
       "    </tr>\n",
       "    <tr>\n",
       "      <th>2</th>\n",
       "      <td>1</td>\n",
       "      <td>qid:10</td>\n",
       "      <td>1:0.078682</td>\n",
       "      <td>2:0.166667</td>\n",
       "      <td>3:0.500000</td>\n",
       "      <td>4:0.333333</td>\n",
       "      <td>5:0.080022</td>\n",
       "      <td>6:0.000000</td>\n",
       "      <td>7:0.000000</td>\n",
       "      <td>8:0.000000</td>\n",
       "      <td>...</td>\n",
       "      <td>46:0.000000</td>\n",
       "      <td>#docid</td>\n",
       "      <td>=</td>\n",
       "      <td>GX000-62-7863450</td>\n",
       "      <td>inc</td>\n",
       "      <td>=</td>\n",
       "      <td>1.000000</td>\n",
       "      <td>prob</td>\n",
       "      <td>=</td>\n",
       "      <td>0.568950</td>\n",
       "    </tr>\n",
       "    <tr>\n",
       "      <th>3</th>\n",
       "      <td>1</td>\n",
       "      <td>qid:10</td>\n",
       "      <td>1:0.019058</td>\n",
       "      <td>2:1.000000</td>\n",
       "      <td>3:1.000000</td>\n",
       "      <td>4:0.500000</td>\n",
       "      <td>5:0.022591</td>\n",
       "      <td>6:0.000000</td>\n",
       "      <td>7:0.000000</td>\n",
       "      <td>8:0.000000</td>\n",
       "      <td>...</td>\n",
       "      <td>46:0.000000</td>\n",
       "      <td>#docid</td>\n",
       "      <td>=</td>\n",
       "      <td>GX016-48-5543459</td>\n",
       "      <td>inc</td>\n",
       "      <td>=</td>\n",
       "      <td>1.000000</td>\n",
       "      <td>prob</td>\n",
       "      <td>=</td>\n",
       "      <td>0.775913</td>\n",
       "    </tr>\n",
       "    <tr>\n",
       "      <th>4</th>\n",
       "      <td>0</td>\n",
       "      <td>qid:10</td>\n",
       "      <td>1:0.039477</td>\n",
       "      <td>2:0.000000</td>\n",
       "      <td>3:0.750000</td>\n",
       "      <td>4:0.166667</td>\n",
       "      <td>5:0.040555</td>\n",
       "      <td>6:0.000000</td>\n",
       "      <td>7:0.000000</td>\n",
       "      <td>8:0.000000</td>\n",
       "      <td>...</td>\n",
       "      <td>46:0.000000</td>\n",
       "      <td>#docid</td>\n",
       "      <td>=</td>\n",
       "      <td>GX037-87-3082362</td>\n",
       "      <td>inc</td>\n",
       "      <td>=</td>\n",
       "      <td>0.588907</td>\n",
       "      <td>prob</td>\n",
       "      <td>=</td>\n",
       "      <td>0.334800</td>\n",
       "    </tr>\n",
       "  </tbody>\n",
       "</table>\n",
       "<p>5 rows × 57 columns</p>\n",
       "</div>"
      ],
      "text/plain": [
       "   0       1           2           3           4           5           6   \\\n",
       "0   0  qid:10  1:0.000000  2:0.000000  3:0.000000  4:0.000000  5:0.000000   \n",
       "1   1  qid:10  1:0.031310  2:0.666667  3:0.500000  4:0.166667  5:0.033206   \n",
       "2   1  qid:10  1:0.078682  2:0.166667  3:0.500000  4:0.333333  5:0.080022   \n",
       "3   1  qid:10  1:0.019058  2:1.000000  3:1.000000  4:0.500000  5:0.022591   \n",
       "4   0  qid:10  1:0.039477  2:0.000000  3:0.750000  4:0.166667  5:0.040555   \n",
       "\n",
       "           7           8           9   ...           47      48 49  \\\n",
       "0  6:0.000000  7:0.000000  8:0.000000  ...  46:0.000000  #docid  =   \n",
       "1  6:0.000000  7:0.000000  8:0.000000  ...  46:0.000000  #docid  =   \n",
       "2  6:0.000000  7:0.000000  8:0.000000  ...  46:0.000000  #docid  =   \n",
       "3  6:0.000000  7:0.000000  8:0.000000  ...  46:0.000000  #docid  =   \n",
       "4  6:0.000000  7:0.000000  8:0.000000  ...  46:0.000000  #docid  =   \n",
       "\n",
       "                  50   51 52        53    54 55        56  \n",
       "0   GX000-00-0000000  inc  =  1.000000  prob  =  0.024691  \n",
       "1  GX000-24-12369390  inc  =  0.600319  prob  =  0.416367  \n",
       "2   GX000-62-7863450  inc  =  1.000000  prob  =  0.568950  \n",
       "3   GX016-48-5543459  inc  =  1.000000  prob  =  0.775913  \n",
       "4   GX037-87-3082362  inc  =  0.588907  prob  =  0.334800  \n",
       "\n",
       "[5 rows x 57 columns]"
      ]
     },
     "metadata": {},
     "output_type": "display_data"
    }
   ],
   "source": [
    "def load_raw_data_pdf(data_paths):\n",
    "    train_data_pdf = []\n",
    "    for path in data_paths:\n",
    "        train_data_pdf.append(pd.read_csv(path, sep=\" \", header=None))\n",
    "    return pd.concat(train_data_pdf).reset_index(drop=True)\n",
    "\n",
    "raw_data_pdf = load_raw_data_pdf(DATA_PATHS)\n",
    "summery(raw_data_pdf)"
   ]
  },
  {
   "cell_type": "markdown",
   "id": "9fa65000",
   "metadata": {
    "ExecuteTime": {
     "end_time": "2022-06-16T14:56:20.597826Z",
     "start_time": "2022-06-16T14:56:20.591447Z"
    }
   },
   "source": [
    "## Data Cleaning"
   ]
  },
  {
   "cell_type": "code",
   "execution_count": 8,
   "id": "55aa3fa2",
   "metadata": {
    "ExecuteTime": {
     "end_time": "2022-06-28T18:52:53.090558Z",
     "start_time": "2022-06-28T18:52:45.582082Z"
    }
   },
   "outputs": [
    {
     "data": {
      "text/html": [
       "<div>\n",
       "<style scoped>\n",
       "    .dataframe tbody tr th:only-of-type {\n",
       "        vertical-align: middle;\n",
       "    }\n",
       "\n",
       "    .dataframe tbody tr th {\n",
       "        vertical-align: top;\n",
       "    }\n",
       "\n",
       "    .dataframe thead th {\n",
       "        text-align: right;\n",
       "    }\n",
       "</style>\n",
       "<table border=\"1\" class=\"dataframe\">\n",
       "  <thead>\n",
       "    <tr style=\"text-align: right;\">\n",
       "      <th></th>\n",
       "      <th>label</th>\n",
       "      <th>qid</th>\n",
       "      <th>1</th>\n",
       "      <th>2</th>\n",
       "      <th>3</th>\n",
       "      <th>4</th>\n",
       "      <th>5</th>\n",
       "      <th>6</th>\n",
       "      <th>7</th>\n",
       "      <th>8</th>\n",
       "      <th>...</th>\n",
       "      <th>37</th>\n",
       "      <th>38</th>\n",
       "      <th>39</th>\n",
       "      <th>40</th>\n",
       "      <th>41</th>\n",
       "      <th>42</th>\n",
       "      <th>43</th>\n",
       "      <th>44</th>\n",
       "      <th>45</th>\n",
       "      <th>46</th>\n",
       "    </tr>\n",
       "  </thead>\n",
       "  <tbody>\n",
       "    <tr>\n",
       "      <th>0</th>\n",
       "      <td>0</td>\n",
       "      <td>10</td>\n",
       "      <td>0.000000</td>\n",
       "      <td>0.000000</td>\n",
       "      <td>0.000000</td>\n",
       "      <td>0.000000</td>\n",
       "      <td>0.000000</td>\n",
       "      <td>0.000000</td>\n",
       "      <td>0.000000</td>\n",
       "      <td>0.000000</td>\n",
       "      <td>...</td>\n",
       "      <td>0.000000</td>\n",
       "      <td>0.000000</td>\n",
       "      <td>0.000000</td>\n",
       "      <td>0.000000</td>\n",
       "      <td>0.000000</td>\n",
       "      <td>0.000000</td>\n",
       "      <td>0.017241</td>\n",
       "      <td>0.000000</td>\n",
       "      <td>0.000000</td>\n",
       "      <td>0.000000</td>\n",
       "    </tr>\n",
       "    <tr>\n",
       "      <th>1</th>\n",
       "      <td>1</td>\n",
       "      <td>10</td>\n",
       "      <td>0.031310</td>\n",
       "      <td>0.666667</td>\n",
       "      <td>0.500000</td>\n",
       "      <td>0.166667</td>\n",
       "      <td>0.033206</td>\n",
       "      <td>0.000000</td>\n",
       "      <td>0.000000</td>\n",
       "      <td>0.000000</td>\n",
       "      <td>...</td>\n",
       "      <td>0.646890</td>\n",
       "      <td>0.686107</td>\n",
       "      <td>0.823908</td>\n",
       "      <td>0.750092</td>\n",
       "      <td>0.385426</td>\n",
       "      <td>0.923077</td>\n",
       "      <td>0.086207</td>\n",
       "      <td>0.333333</td>\n",
       "      <td>0.448276</td>\n",
       "      <td>0.000000</td>\n",
       "    </tr>\n",
       "    <tr>\n",
       "      <th>2</th>\n",
       "      <td>1</td>\n",
       "      <td>10</td>\n",
       "      <td>0.078682</td>\n",
       "      <td>0.166667</td>\n",
       "      <td>0.500000</td>\n",
       "      <td>0.333333</td>\n",
       "      <td>0.080022</td>\n",
       "      <td>0.000000</td>\n",
       "      <td>0.000000</td>\n",
       "      <td>0.000000</td>\n",
       "      <td>...</td>\n",
       "      <td>0.649824</td>\n",
       "      <td>0.578581</td>\n",
       "      <td>0.868557</td>\n",
       "      <td>0.641385</td>\n",
       "      <td>0.010462</td>\n",
       "      <td>0.076923</td>\n",
       "      <td>0.074713</td>\n",
       "      <td>0.833333</td>\n",
       "      <td>0.678161</td>\n",
       "      <td>0.000000</td>\n",
       "    </tr>\n",
       "    <tr>\n",
       "      <th>3</th>\n",
       "      <td>1</td>\n",
       "      <td>10</td>\n",
       "      <td>0.019058</td>\n",
       "      <td>1.000000</td>\n",
       "      <td>1.000000</td>\n",
       "      <td>0.500000</td>\n",
       "      <td>0.022591</td>\n",
       "      <td>0.000000</td>\n",
       "      <td>0.000000</td>\n",
       "      <td>0.000000</td>\n",
       "      <td>...</td>\n",
       "      <td>0.918403</td>\n",
       "      <td>0.868457</td>\n",
       "      <td>1.000000</td>\n",
       "      <td>0.863460</td>\n",
       "      <td>0.016642</td>\n",
       "      <td>0.153846</td>\n",
       "      <td>0.040230</td>\n",
       "      <td>0.833333</td>\n",
       "      <td>0.896552</td>\n",
       "      <td>0.000000</td>\n",
       "    </tr>\n",
       "    <tr>\n",
       "      <th>4</th>\n",
       "      <td>0</td>\n",
       "      <td>10</td>\n",
       "      <td>0.039477</td>\n",
       "      <td>0.000000</td>\n",
       "      <td>0.750000</td>\n",
       "      <td>0.166667</td>\n",
       "      <td>0.040555</td>\n",
       "      <td>0.000000</td>\n",
       "      <td>0.000000</td>\n",
       "      <td>0.000000</td>\n",
       "      <td>...</td>\n",
       "      <td>0.565875</td>\n",
       "      <td>0.569440</td>\n",
       "      <td>0.769845</td>\n",
       "      <td>0.646567</td>\n",
       "      <td>0.073711</td>\n",
       "      <td>0.076923</td>\n",
       "      <td>0.034483</td>\n",
       "      <td>0.333333</td>\n",
       "      <td>0.218391</td>\n",
       "      <td>0.000000</td>\n",
       "    </tr>\n",
       "  </tbody>\n",
       "</table>\n",
       "<p>5 rows × 48 columns</p>\n",
       "</div>"
      ],
      "text/plain": [
       "   label qid         1         2         3         4         5         6  \\\n",
       "0      0  10  0.000000  0.000000  0.000000  0.000000  0.000000  0.000000   \n",
       "1      1  10  0.031310  0.666667  0.500000  0.166667  0.033206  0.000000   \n",
       "2      1  10  0.078682  0.166667  0.500000  0.333333  0.080022  0.000000   \n",
       "3      1  10  0.019058  1.000000  1.000000  0.500000  0.022591  0.000000   \n",
       "4      0  10  0.039477  0.000000  0.750000  0.166667  0.040555  0.000000   \n",
       "\n",
       "          7         8  ...        37        38        39        40        41  \\\n",
       "0  0.000000  0.000000  ...  0.000000  0.000000  0.000000  0.000000  0.000000   \n",
       "1  0.000000  0.000000  ...  0.646890  0.686107  0.823908  0.750092  0.385426   \n",
       "2  0.000000  0.000000  ...  0.649824  0.578581  0.868557  0.641385  0.010462   \n",
       "3  0.000000  0.000000  ...  0.918403  0.868457  1.000000  0.863460  0.016642   \n",
       "4  0.000000  0.000000  ...  0.565875  0.569440  0.769845  0.646567  0.073711   \n",
       "\n",
       "         42        43        44        45        46  \n",
       "0  0.000000  0.017241  0.000000  0.000000  0.000000  \n",
       "1  0.923077  0.086207  0.333333  0.448276  0.000000  \n",
       "2  0.076923  0.074713  0.833333  0.678161  0.000000  \n",
       "3  0.153846  0.040230  0.833333  0.896552  0.000000  \n",
       "4  0.076923  0.034483  0.333333  0.218391  0.000000  \n",
       "\n",
       "[5 rows x 48 columns]"
      ]
     },
     "metadata": {},
     "output_type": "display_data"
    }
   ],
   "source": [
    "def remove_unsued_info(pdf):\n",
    "    return pdf.iloc[: , :-9]\n",
    "\n",
    "def remove_column_name_from_data(pdf):\n",
    "    for i in range(1, 48):\n",
    "        pdf[['temp', i]] = pdf[i].str.split(':', expand=True)\n",
    "    pdf = pdf.drop('temp', axis=1)\n",
    "    return pdf\n",
    "    \n",
    "def rename_lable_and_id(pdf):\n",
    "    pdf = pdf.rename(columns = {1:'qid', 0:'label'})\n",
    "    for i in range(2, 48):\n",
    "        pdf = pdf.rename(columns = {i:i-1})\n",
    "        \n",
    "    return pdf\n",
    "\n",
    "data_pdf = remove_unsued_info(raw_data_pdf)\n",
    "data_pdf = remove_column_name_from_data(data_pdf)\n",
    "data_pdf = rename_lable_and_id(data_pdf)\n",
    "summery(data_pdf)"
   ]
  },
  {
   "cell_type": "markdown",
   "id": "17c0dfc0",
   "metadata": {},
   "source": [
    "## Split X and Y"
   ]
  },
  {
   "cell_type": "code",
   "execution_count": 9,
   "id": "1bbe08e4",
   "metadata": {
    "ExecuteTime": {
     "end_time": "2022-06-28T18:52:53.142787Z",
     "start_time": "2022-06-28T18:52:53.092461Z"
    }
   },
   "outputs": [
    {
     "data": {
      "text/html": [
       "<div>\n",
       "<style scoped>\n",
       "    .dataframe tbody tr th:only-of-type {\n",
       "        vertical-align: middle;\n",
       "    }\n",
       "\n",
       "    .dataframe tbody tr th {\n",
       "        vertical-align: top;\n",
       "    }\n",
       "\n",
       "    .dataframe thead th {\n",
       "        text-align: right;\n",
       "    }\n",
       "</style>\n",
       "<table border=\"1\" class=\"dataframe\">\n",
       "  <thead>\n",
       "    <tr style=\"text-align: right;\">\n",
       "      <th></th>\n",
       "      <th>qid</th>\n",
       "      <th>1</th>\n",
       "      <th>2</th>\n",
       "      <th>3</th>\n",
       "      <th>4</th>\n",
       "      <th>5</th>\n",
       "      <th>6</th>\n",
       "      <th>7</th>\n",
       "      <th>8</th>\n",
       "      <th>9</th>\n",
       "      <th>...</th>\n",
       "      <th>37</th>\n",
       "      <th>38</th>\n",
       "      <th>39</th>\n",
       "      <th>40</th>\n",
       "      <th>41</th>\n",
       "      <th>42</th>\n",
       "      <th>43</th>\n",
       "      <th>44</th>\n",
       "      <th>45</th>\n",
       "      <th>46</th>\n",
       "    </tr>\n",
       "  </thead>\n",
       "  <tbody>\n",
       "    <tr>\n",
       "      <th>0</th>\n",
       "      <td>10</td>\n",
       "      <td>0.000000</td>\n",
       "      <td>0.000000</td>\n",
       "      <td>0.000000</td>\n",
       "      <td>0.000000</td>\n",
       "      <td>0.000000</td>\n",
       "      <td>0.000000</td>\n",
       "      <td>0.000000</td>\n",
       "      <td>0.000000</td>\n",
       "      <td>0.000000</td>\n",
       "      <td>...</td>\n",
       "      <td>0.000000</td>\n",
       "      <td>0.000000</td>\n",
       "      <td>0.000000</td>\n",
       "      <td>0.000000</td>\n",
       "      <td>0.000000</td>\n",
       "      <td>0.000000</td>\n",
       "      <td>0.017241</td>\n",
       "      <td>0.000000</td>\n",
       "      <td>0.000000</td>\n",
       "      <td>0.000000</td>\n",
       "    </tr>\n",
       "    <tr>\n",
       "      <th>1</th>\n",
       "      <td>10</td>\n",
       "      <td>0.031310</td>\n",
       "      <td>0.666667</td>\n",
       "      <td>0.500000</td>\n",
       "      <td>0.166667</td>\n",
       "      <td>0.033206</td>\n",
       "      <td>0.000000</td>\n",
       "      <td>0.000000</td>\n",
       "      <td>0.000000</td>\n",
       "      <td>0.000000</td>\n",
       "      <td>...</td>\n",
       "      <td>0.646890</td>\n",
       "      <td>0.686107</td>\n",
       "      <td>0.823908</td>\n",
       "      <td>0.750092</td>\n",
       "      <td>0.385426</td>\n",
       "      <td>0.923077</td>\n",
       "      <td>0.086207</td>\n",
       "      <td>0.333333</td>\n",
       "      <td>0.448276</td>\n",
       "      <td>0.000000</td>\n",
       "    </tr>\n",
       "    <tr>\n",
       "      <th>2</th>\n",
       "      <td>10</td>\n",
       "      <td>0.078682</td>\n",
       "      <td>0.166667</td>\n",
       "      <td>0.500000</td>\n",
       "      <td>0.333333</td>\n",
       "      <td>0.080022</td>\n",
       "      <td>0.000000</td>\n",
       "      <td>0.000000</td>\n",
       "      <td>0.000000</td>\n",
       "      <td>0.000000</td>\n",
       "      <td>...</td>\n",
       "      <td>0.649824</td>\n",
       "      <td>0.578581</td>\n",
       "      <td>0.868557</td>\n",
       "      <td>0.641385</td>\n",
       "      <td>0.010462</td>\n",
       "      <td>0.076923</td>\n",
       "      <td>0.074713</td>\n",
       "      <td>0.833333</td>\n",
       "      <td>0.678161</td>\n",
       "      <td>0.000000</td>\n",
       "    </tr>\n",
       "    <tr>\n",
       "      <th>3</th>\n",
       "      <td>10</td>\n",
       "      <td>0.019058</td>\n",
       "      <td>1.000000</td>\n",
       "      <td>1.000000</td>\n",
       "      <td>0.500000</td>\n",
       "      <td>0.022591</td>\n",
       "      <td>0.000000</td>\n",
       "      <td>0.000000</td>\n",
       "      <td>0.000000</td>\n",
       "      <td>0.000000</td>\n",
       "      <td>...</td>\n",
       "      <td>0.918403</td>\n",
       "      <td>0.868457</td>\n",
       "      <td>1.000000</td>\n",
       "      <td>0.863460</td>\n",
       "      <td>0.016642</td>\n",
       "      <td>0.153846</td>\n",
       "      <td>0.040230</td>\n",
       "      <td>0.833333</td>\n",
       "      <td>0.896552</td>\n",
       "      <td>0.000000</td>\n",
       "    </tr>\n",
       "    <tr>\n",
       "      <th>4</th>\n",
       "      <td>10</td>\n",
       "      <td>0.039477</td>\n",
       "      <td>0.000000</td>\n",
       "      <td>0.750000</td>\n",
       "      <td>0.166667</td>\n",
       "      <td>0.040555</td>\n",
       "      <td>0.000000</td>\n",
       "      <td>0.000000</td>\n",
       "      <td>0.000000</td>\n",
       "      <td>0.000000</td>\n",
       "      <td>...</td>\n",
       "      <td>0.565875</td>\n",
       "      <td>0.569440</td>\n",
       "      <td>0.769845</td>\n",
       "      <td>0.646567</td>\n",
       "      <td>0.073711</td>\n",
       "      <td>0.076923</td>\n",
       "      <td>0.034483</td>\n",
       "      <td>0.333333</td>\n",
       "      <td>0.218391</td>\n",
       "      <td>0.000000</td>\n",
       "    </tr>\n",
       "  </tbody>\n",
       "</table>\n",
       "<p>5 rows × 47 columns</p>\n",
       "</div>"
      ],
      "text/plain": [
       "  qid         1         2         3         4         5         6         7  \\\n",
       "0  10  0.000000  0.000000  0.000000  0.000000  0.000000  0.000000  0.000000   \n",
       "1  10  0.031310  0.666667  0.500000  0.166667  0.033206  0.000000  0.000000   \n",
       "2  10  0.078682  0.166667  0.500000  0.333333  0.080022  0.000000  0.000000   \n",
       "3  10  0.019058  1.000000  1.000000  0.500000  0.022591  0.000000  0.000000   \n",
       "4  10  0.039477  0.000000  0.750000  0.166667  0.040555  0.000000  0.000000   \n",
       "\n",
       "          8         9  ...        37        38        39        40        41  \\\n",
       "0  0.000000  0.000000  ...  0.000000  0.000000  0.000000  0.000000  0.000000   \n",
       "1  0.000000  0.000000  ...  0.646890  0.686107  0.823908  0.750092  0.385426   \n",
       "2  0.000000  0.000000  ...  0.649824  0.578581  0.868557  0.641385  0.010462   \n",
       "3  0.000000  0.000000  ...  0.918403  0.868457  1.000000  0.863460  0.016642   \n",
       "4  0.000000  0.000000  ...  0.565875  0.569440  0.769845  0.646567  0.073711   \n",
       "\n",
       "         42        43        44        45        46  \n",
       "0  0.000000  0.017241  0.000000  0.000000  0.000000  \n",
       "1  0.923077  0.086207  0.333333  0.448276  0.000000  \n",
       "2  0.076923  0.074713  0.833333  0.678161  0.000000  \n",
       "3  0.153846  0.040230  0.833333  0.896552  0.000000  \n",
       "4  0.076923  0.034483  0.333333  0.218391  0.000000  \n",
       "\n",
       "[5 rows x 47 columns]"
      ]
     },
     "metadata": {},
     "output_type": "display_data"
    }
   ],
   "source": [
    "x_pdf = data_pdf.drop('label', axis=1)\n",
    "y_pdf = data_pdf[['qid', 'label']]\n",
    "summery(x_pdf)"
   ]
  },
  {
   "cell_type": "markdown",
   "id": "c6036d03",
   "metadata": {},
   "source": [
    "# EDA"
   ]
  },
  {
   "cell_type": "markdown",
   "id": "cc7003a5",
   "metadata": {},
   "source": [
    "In this section, first we visualize features using t-SNE then we want to see if using the PCA algorithm is good to reduce the number of features for the training process. As usual and comen, we first normalized data and then used the PCA algorithm on the normalized data."
   ]
  },
  {
   "cell_type": "markdown",
   "id": "180c5587",
   "metadata": {},
   "source": [
    "## Normalize Data"
   ]
  },
  {
   "cell_type": "code",
   "execution_count": 10,
   "id": "e75afd36",
   "metadata": {
    "ExecuteTime": {
     "end_time": "2022-06-28T18:52:53.713286Z",
     "start_time": "2022-06-28T18:52:53.144089Z"
    }
   },
   "outputs": [],
   "source": [
    "sc = StandardScaler()\n",
    "norm_data_pdf = sc.fit_transform(x_pdf.drop('qid', axis=1))"
   ]
  },
  {
   "cell_type": "markdown",
   "id": "ade9ddab",
   "metadata": {},
   "source": [
    "## t-SNE"
   ]
  },
  {
   "cell_type": "code",
   "execution_count": 11,
   "id": "57ac2222",
   "metadata": {
    "ExecuteTime": {
     "end_time": "2022-06-28T18:53:52.093499Z",
     "start_time": "2022-06-28T18:52:53.715173Z"
    }
   },
   "outputs": [
    {
     "name": "stderr",
     "output_type": "stream",
     "text": [
      "findfont: Font family ['Arial'] not found. Falling back to DejaVu Sans.\n"
     ]
    },
    {
     "data": {
      "image/png": "[encoded data removed]",
      "text/plain": [
       "<Figure size 936x648 with 1 Axes>"
      ]
     },
     "metadata": {
      "needs_background": "light"
     },
     "output_type": "display_data"
    }
   ],
   "source": [
    "tsne_em = TSNE(n_components=2, perplexity=30.0, n_iter=300, init='pca').fit_transform(norm_data_pdf)\n",
    "color_class = y_pdf['label'].to_numpy()\n",
    "cluster.tsneplot(score=tsne_em, colorlist=color_class, colordot=('tab:blue', '#63a375', 'tab:red'), \n",
    "    legendpos='upper right', legendanchor=(1.15, 1) )\n",
    "\n",
    "fig, ax = plt.subplots(figsize=FIGSIZE)\n",
    "image = mpimg.imread('./tsne_2d.png')\n",
    "plt.imshow(image)\n",
    "plt.axis('off') \n",
    "plt.show()"
   ]
  },
  {
   "cell_type": "markdown",
   "id": "a43bc155",
   "metadata": {},
   "source": [
    "## Effectivenes of PCA"
   ]
  },
  {
   "cell_type": "code",
   "execution_count": 12,
   "id": "0fe48352",
   "metadata": {
    "ExecuteTime": {
     "end_time": "2022-06-28T18:54:07.949662Z",
     "start_time": "2022-06-28T18:53:52.094694Z"
    }
   },
   "outputs": [
    {
     "data": {
      "image/png": "[encoded data removed]",
      "text/plain": [
       "<Figure size 936x648 with 1 Axes>"
      ]
     },
     "metadata": {
      "needs_background": "light"
     },
     "output_type": "display_data"
    }
   ],
   "source": [
    "number_of_feature = []\n",
    "responsible_variance = []\n",
    "for i in range(1, len(norm_data_pdf[0]) + 1):\n",
    "    pca = PCA(n_components=i)\n",
    "    X_train = pca.fit_transform(norm_data_pdf)\n",
    "    explained_variance = pca.explained_variance_ratio_\n",
    "    responsible_variance.append(round(sum(explained_variance), 3))\n",
    "    number_of_feature.append(i)\n",
    "    \n",
    "fig, ax = plt.subplots(figsize=FIGSIZE)\n",
    "plt.plot(number_of_feature, responsible_variance)\n",
    "plt.title('PCA- total responsible variance vs.  number of feature ')\n",
    "plt.ylabel('responsible variance')\n",
    "plt.xlabel('number of feature')\n",
    "plt.show()"
   ]
  },
  {
   "cell_type": "markdown",
   "id": "793a7685",
   "metadata": {
    "ExecuteTime": {
     "end_time": "2022-06-28T16:16:19.791192Z",
     "start_time": "2022-06-28T16:16:19.781161Z"
    }
   },
   "source": [
    "<font color='Red'>\n",
    "    <div style=style=\"font-size: 25px\"> \n",
    "        Result\n",
    "    </div>\n",
    "</font>"
   ]
  },
  {
   "cell_type": "markdown",
   "id": "e5fe05ce",
   "metadata": {},
   "source": [
    "As you can see above, we can use 30 features with a nearly total responsible variance of 1 instead of all 46 features. This reduction of features and the known fact that Normalization and PCA will help us to avoid sparsity problems in classification, will lead us to use the Normalization and PCA algorithm. \n",
    "\n",
    "As a result, <font color='Green'> we will use the PCA algorithm with n_components=30 </font>."
   ]
  },
  {
   "cell_type": "markdown",
   "id": "4eedd0ea",
   "metadata": {},
   "source": [
    "## Impcat of PCA on Sparsity"
   ]
  },
  {
   "cell_type": "markdown",
   "id": "110d1f2f",
   "metadata": {},
   "source": [
    "As the most of features suffer from sparsity, reducing unnecessary features will have a huge impact to overcome sparsity as far as we can. In this section, we show that Normalization and PCA will help reduce the sparsity of data."
   ]
  },
  {
   "cell_type": "code",
   "execution_count": 13,
   "id": "f5660639",
   "metadata": {
    "ExecuteTime": {
     "end_time": "2022-06-28T18:54:07.955659Z",
     "start_time": "2022-06-28T18:54:07.951482Z"
    }
   },
   "outputs": [],
   "source": [
    "def calculate_sparsity(pdf, feature_count):\n",
    "    coutn_of_all_data = len(pdf) * feature_count\n",
    "    count_of_zero_data = 0\n",
    "    for column in pdf.columns:\n",
    "        count_of_zero_data += len(pdf[pdf[column] == '0.000000'][column])\n",
    "    return round(count_of_zero_data / coutn_of_all_data, 2)"
   ]
  },
  {
   "cell_type": "code",
   "execution_count": 14,
   "id": "a0c866fa",
   "metadata": {
    "ExecuteTime": {
     "end_time": "2022-06-28T18:54:08.585596Z",
     "start_time": "2022-06-28T18:54:07.957727Z"
    }
   },
   "outputs": [],
   "source": [
    "pca = PCA(n_components=30)\n",
    "redeuced_norm_data_pdf = pca.fit_transform(norm_data_pdf)\n",
    "redeuced_norm_data_pdf = pd.DataFrame(redeuced_norm_data_pdf)"
   ]
  },
  {
   "cell_type": "code",
   "execution_count": 15,
   "id": "ad03ad30",
   "metadata": {
    "ExecuteTime": {
     "end_time": "2022-06-28T18:54:10.375926Z",
     "start_time": "2022-06-28T18:54:08.589068Z"
    }
   },
   "outputs": [
    {
     "name": "stdout",
     "output_type": "stream",
     "text": [
      "Precent of zero data befor Normalization and PCA = 0.44\n",
      "Precent of zero data after Normalization and PCA = 0.0\n"
     ]
    }
   ],
   "source": [
    "print(f\"Precent of zero data befor Normalization and PCA = {calculate_sparsity(x_pdf, 46)}\")\n",
    "print(f\"Precent of zero data after Normalization and PCA = {calculate_sparsity(redeuced_norm_data_pdf, 30)}\")"
   ]
  },
  {
   "cell_type": "markdown",
   "id": "2116bc28",
   "metadata": {},
   "source": [
    "<font color='Red'>\n",
    "    <div style=style=\"font-size: 25px\"> \n",
    "        Result\n",
    "    </div>\n",
    "</font>"
   ]
  },
  {
   "cell_type": "markdown",
   "id": "65988371",
   "metadata": {},
   "source": [
    "As is clear, Normalization and PCA help us to overcome the sparsity problem.\n",
    "\n",
    "As a result, <font color='Green'> we will use Normalization and PCA algorithms.</font>."
   ]
  },
  {
   "cell_type": "markdown",
   "id": "cff02938",
   "metadata": {},
   "source": [
    "## Class-Imbalance"
   ]
  },
  {
   "cell_type": "markdown",
   "id": "57fb2dca",
   "metadata": {},
   "source": [
    "In this section, we will investigate if we have class imbalance problem or not."
   ]
  },
  {
   "cell_type": "markdown",
   "id": "dcc372bd",
   "metadata": {},
   "source": [
    "### Proof of Existence"
   ]
  },
  {
   "cell_type": "code",
   "execution_count": 16,
   "id": "253e61f6",
   "metadata": {
    "ExecuteTime": {
     "end_time": "2022-06-28T18:54:10.380996Z",
     "start_time": "2022-06-28T18:54:10.377700Z"
    }
   },
   "outputs": [],
   "source": [
    "def draw_hsitogram(data, title, figsize=FIGSIZE, shrink=0.6, discrete=True):\n",
    "    fig, ax = plt.subplots(figsize=figsize)\n",
    "    sns.histplot(x=data, shrink=shrink, discrete=discrete)\n",
    "    plt.title(title)\n",
    "    plt.show()"
   ]
  },
  {
   "cell_type": "code",
   "execution_count": 17,
   "id": "a39a34b8",
   "metadata": {
    "ExecuteTime": {
     "end_time": "2022-06-28T18:54:10.530814Z",
     "start_time": "2022-06-28T18:54:10.382654Z"
    }
   },
   "outputs": [
    {
     "data": {
      "image/png": "[encoded data removed]",
      "text/plain": [
       "<Figure size 936x648 with 1 Axes>"
      ]
     },
     "metadata": {
      "needs_background": "light"
     },
     "output_type": "display_data"
    }
   ],
   "source": [
    "draw_hsitogram(y_pdf['label'], 'conut of sample for each label')"
   ]
  },
  {
   "cell_type": "markdown",
   "id": "2c39a4fd",
   "metadata": {},
   "source": [
    "### Effectivness of OverSampleing "
   ]
  },
  {
   "cell_type": "code",
   "execution_count": 18,
   "id": "d9894a77",
   "metadata": {
    "ExecuteTime": {
     "end_time": "2022-06-28T18:54:11.332440Z",
     "start_time": "2022-06-28T18:54:10.532407Z"
    },
    "scrolled": false
   },
   "outputs": [
    {
     "data": {
      "image/png": "[encoded data removed]",
      "text/plain": [
       "<Figure size 936x648 with 1 Axes>"
      ]
     },
     "metadata": {
      "needs_background": "light"
     },
     "output_type": "display_data"
    }
   ],
   "source": [
    "smote = SMOTE()\n",
    "\n",
    "x_smote, y_smote = smote.fit_resample(x_pdf.drop('qid', axis=1), y_pdf.drop('qid', axis=1))\n",
    "draw_hsitogram(y_smote['label'], 'conut of sample for each label-after over-sampling')"
   ]
  },
  {
   "cell_type": "markdown",
   "id": "61acfd99",
   "metadata": {},
   "source": [
    "<font color='Red'>\n",
    "    <div style=style=\"font-size: 25px\"> \n",
    "        Result\n",
    "    </div>\n",
    "</font>"
   ]
  },
  {
   "cell_type": "markdown",
   "id": "d4758994",
   "metadata": {},
   "source": [
    "As you can see in the first histogram, most of the data labels are 0, and far fewer are 2. This will cause class imbalance. For this reason, we use oversampling to overcome the class imbalance problem.\n",
    "\n",
    "As a result, <font color='Green'>we use over-sampling to overcome the class imbalance problem.</font>"
   ]
  },
  {
   "cell_type": "markdown",
   "id": "8a3b6c35",
   "metadata": {},
   "source": [
    "## EDA Result"
   ]
  },
  {
   "cell_type": "markdown",
   "id": "a8dd3ff8",
   "metadata": {},
   "source": [
    "As we saw, we can use normalization and PCA algorithm for both part one and part two. In the first part, we suffer from class imbalance so, we will use oversampling to overcome this issue."
   ]
  },
  {
   "cell_type": "markdown",
   "id": "c484e4ba",
   "metadata": {},
   "source": [
    "# Data Pre-Process"
   ]
  },
  {
   "cell_type": "markdown",
   "id": "090b8152",
   "metadata": {},
   "source": [
    "## Pre-Process Config"
   ]
  },
  {
   "cell_type": "code",
   "execution_count": 19,
   "id": "d1a98a39",
   "metadata": {
    "ExecuteTime": {
     "end_time": "2022-06-28T18:54:11.336706Z",
     "start_time": "2022-06-28T18:54:11.333955Z"
    }
   },
   "outputs": [],
   "source": [
    "N_COMPONENTS = 30"
   ]
  },
  {
   "cell_type": "markdown",
   "id": "4383c79a",
   "metadata": {},
   "source": [
    "## Normalization"
   ]
  },
  {
   "cell_type": "code",
   "execution_count": 20,
   "id": "891be77b",
   "metadata": {
    "ExecuteTime": {
     "end_time": "2022-06-28T18:54:12.206991Z",
     "start_time": "2022-06-28T18:54:11.338284Z"
    }
   },
   "outputs": [
    {
     "data": {
      "text/html": [
       "<div>\n",
       "<style scoped>\n",
       "    .dataframe tbody tr th:only-of-type {\n",
       "        vertical-align: middle;\n",
       "    }\n",
       "\n",
       "    .dataframe tbody tr th {\n",
       "        vertical-align: top;\n",
       "    }\n",
       "\n",
       "    .dataframe thead th {\n",
       "        text-align: right;\n",
       "    }\n",
       "</style>\n",
       "<table border=\"1\" class=\"dataframe\">\n",
       "  <thead>\n",
       "    <tr style=\"text-align: right;\">\n",
       "      <th></th>\n",
       "      <th>0</th>\n",
       "      <th>1</th>\n",
       "      <th>2</th>\n",
       "      <th>3</th>\n",
       "      <th>4</th>\n",
       "      <th>5</th>\n",
       "      <th>6</th>\n",
       "      <th>7</th>\n",
       "      <th>8</th>\n",
       "      <th>9</th>\n",
       "      <th>...</th>\n",
       "      <th>22</th>\n",
       "      <th>23</th>\n",
       "      <th>24</th>\n",
       "      <th>25</th>\n",
       "      <th>26</th>\n",
       "      <th>27</th>\n",
       "      <th>28</th>\n",
       "      <th>29</th>\n",
       "      <th>label</th>\n",
       "      <th>qid</th>\n",
       "    </tr>\n",
       "  </thead>\n",
       "  <tbody>\n",
       "    <tr>\n",
       "      <th>0</th>\n",
       "      <td>-1.056717</td>\n",
       "      <td>1.542904</td>\n",
       "      <td>0.007806</td>\n",
       "      <td>-0.108805</td>\n",
       "      <td>-0.314601</td>\n",
       "      <td>-0.614218</td>\n",
       "      <td>-0.247800</td>\n",
       "      <td>-0.113072</td>\n",
       "      <td>-0.103461</td>\n",
       "      <td>-0.047664</td>\n",
       "      <td>...</td>\n",
       "      <td>-0.008989</td>\n",
       "      <td>-0.005157</td>\n",
       "      <td>0.006816</td>\n",
       "      <td>-0.005086</td>\n",
       "      <td>-0.009465</td>\n",
       "      <td>0.002644</td>\n",
       "      <td>-0.002169</td>\n",
       "      <td>-0.001671</td>\n",
       "      <td>0</td>\n",
       "      <td>10</td>\n",
       "    </tr>\n",
       "    <tr>\n",
       "      <th>1</th>\n",
       "      <td>1.611046</td>\n",
       "      <td>-0.078157</td>\n",
       "      <td>0.294150</td>\n",
       "      <td>0.456564</td>\n",
       "      <td>-0.265912</td>\n",
       "      <td>-0.435449</td>\n",
       "      <td>0.318119</td>\n",
       "      <td>0.383160</td>\n",
       "      <td>0.493884</td>\n",
       "      <td>-0.112852</td>\n",
       "      <td>...</td>\n",
       "      <td>0.208717</td>\n",
       "      <td>-0.077813</td>\n",
       "      <td>0.108366</td>\n",
       "      <td>-0.089617</td>\n",
       "      <td>-0.079675</td>\n",
       "      <td>-0.217938</td>\n",
       "      <td>0.064956</td>\n",
       "      <td>-0.001958</td>\n",
       "      <td>1</td>\n",
       "      <td>10</td>\n",
       "    </tr>\n",
       "    <tr>\n",
       "      <th>2</th>\n",
       "      <td>0.352293</td>\n",
       "      <td>-0.217723</td>\n",
       "      <td>0.146690</td>\n",
       "      <td>-0.194997</td>\n",
       "      <td>-0.063894</td>\n",
       "      <td>0.222456</td>\n",
       "      <td>0.524858</td>\n",
       "      <td>0.150317</td>\n",
       "      <td>-0.539734</td>\n",
       "      <td>-0.371434</td>\n",
       "      <td>...</td>\n",
       "      <td>0.257621</td>\n",
       "      <td>-0.048215</td>\n",
       "      <td>0.105549</td>\n",
       "      <td>0.033576</td>\n",
       "      <td>0.013007</td>\n",
       "      <td>-0.046722</td>\n",
       "      <td>-0.037341</td>\n",
       "      <td>0.009231</td>\n",
       "      <td>1</td>\n",
       "      <td>10</td>\n",
       "    </tr>\n",
       "    <tr>\n",
       "      <th>3</th>\n",
       "      <td>2.964902</td>\n",
       "      <td>-0.430472</td>\n",
       "      <td>0.841555</td>\n",
       "      <td>0.540019</td>\n",
       "      <td>-0.228760</td>\n",
       "      <td>0.271971</td>\n",
       "      <td>0.356130</td>\n",
       "      <td>0.438707</td>\n",
       "      <td>-0.296200</td>\n",
       "      <td>-0.696096</td>\n",
       "      <td>...</td>\n",
       "      <td>0.353577</td>\n",
       "      <td>-0.041400</td>\n",
       "      <td>0.026521</td>\n",
       "      <td>-0.089434</td>\n",
       "      <td>0.099191</td>\n",
       "      <td>-0.072052</td>\n",
       "      <td>-0.022056</td>\n",
       "      <td>-0.001479</td>\n",
       "      <td>1</td>\n",
       "      <td>10</td>\n",
       "    </tr>\n",
       "    <tr>\n",
       "      <th>4</th>\n",
       "      <td>0.250382</td>\n",
       "      <td>0.026524</td>\n",
       "      <td>-0.217508</td>\n",
       "      <td>-0.681980</td>\n",
       "      <td>0.029534</td>\n",
       "      <td>-0.404783</td>\n",
       "      <td>0.356254</td>\n",
       "      <td>0.118874</td>\n",
       "      <td>-0.672296</td>\n",
       "      <td>-0.282198</td>\n",
       "      <td>...</td>\n",
       "      <td>0.071875</td>\n",
       "      <td>-0.006183</td>\n",
       "      <td>0.118695</td>\n",
       "      <td>0.045890</td>\n",
       "      <td>0.063105</td>\n",
       "      <td>-0.086413</td>\n",
       "      <td>-0.057315</td>\n",
       "      <td>-0.002936</td>\n",
       "      <td>0</td>\n",
       "      <td>10</td>\n",
       "    </tr>\n",
       "  </tbody>\n",
       "</table>\n",
       "<p>5 rows × 32 columns</p>\n",
       "</div>"
      ],
      "text/plain": [
       "          0         1         2         3         4         5         6  \\\n",
       "0 -1.056717  1.542904  0.007806 -0.108805 -0.314601 -0.614218 -0.247800   \n",
       "1  1.611046 -0.078157  0.294150  0.456564 -0.265912 -0.435449  0.318119   \n",
       "2  0.352293 -0.217723  0.146690 -0.194997 -0.063894  0.222456  0.524858   \n",
       "3  2.964902 -0.430472  0.841555  0.540019 -0.228760  0.271971  0.356130   \n",
       "4  0.250382  0.026524 -0.217508 -0.681980  0.029534 -0.404783  0.356254   \n",
       "\n",
       "          7         8         9  ...        22        23        24        25  \\\n",
       "0 -0.113072 -0.103461 -0.047664  ... -0.008989 -0.005157  0.006816 -0.005086   \n",
       "1  0.383160  0.493884 -0.112852  ...  0.208717 -0.077813  0.108366 -0.089617   \n",
       "2  0.150317 -0.539734 -0.371434  ...  0.257621 -0.048215  0.105549  0.033576   \n",
       "3  0.438707 -0.296200 -0.696096  ...  0.353577 -0.041400  0.026521 -0.089434   \n",
       "4  0.118874 -0.672296 -0.282198  ...  0.071875 -0.006183  0.118695  0.045890   \n",
       "\n",
       "         26        27        28        29  label  qid  \n",
       "0 -0.009465  0.002644 -0.002169 -0.001671      0   10  \n",
       "1 -0.079675 -0.217938  0.064956 -0.001958      1   10  \n",
       "2  0.013007 -0.046722 -0.037341  0.009231      1   10  \n",
       "3  0.099191 -0.072052 -0.022056 -0.001479      1   10  \n",
       "4  0.063105 -0.086413 -0.057315 -0.002936      0   10  \n",
       "\n",
       "[5 rows x 32 columns]"
      ]
     },
     "metadata": {},
     "output_type": "display_data"
    }
   ],
   "source": [
    "def get_normalized_data(pdf):\n",
    "    sc = StandardScaler()\n",
    "    qid = pdf[['qid']]\n",
    "    label = pdf[['label']]\n",
    "    pdf = pdf.drop(['qid', 'label'], axis = 1)\n",
    "    pdf = pca.fit_transform(pdf)\n",
    "    pdf = pd.DataFrame(pdf)\n",
    "    pdf['label'] = label\n",
    "    pdf['qid'] = qid\n",
    "    return pdf\n",
    "\n",
    "norm_data_pdf = get_normalized_data(data_pdf)\n",
    "summery(norm_data_pdf)"
   ]
  },
  {
   "cell_type": "markdown",
   "id": "0df1d702",
   "metadata": {},
   "source": [
    "## PCA"
   ]
  },
  {
   "cell_type": "code",
   "execution_count": 21,
   "id": "df52af9f",
   "metadata": {
    "ExecuteTime": {
     "end_time": "2022-06-28T18:54:12.289888Z",
     "start_time": "2022-06-28T18:54:12.208218Z"
    }
   },
   "outputs": [
    {
     "data": {
      "text/html": [
       "<div>\n",
       "<style scoped>\n",
       "    .dataframe tbody tr th:only-of-type {\n",
       "        vertical-align: middle;\n",
       "    }\n",
       "\n",
       "    .dataframe tbody tr th {\n",
       "        vertical-align: top;\n",
       "    }\n",
       "\n",
       "    .dataframe thead th {\n",
       "        text-align: right;\n",
       "    }\n",
       "</style>\n",
       "<table border=\"1\" class=\"dataframe\">\n",
       "  <thead>\n",
       "    <tr style=\"text-align: right;\">\n",
       "      <th></th>\n",
       "      <th>0</th>\n",
       "      <th>1</th>\n",
       "      <th>2</th>\n",
       "      <th>3</th>\n",
       "      <th>4</th>\n",
       "      <th>5</th>\n",
       "      <th>6</th>\n",
       "      <th>7</th>\n",
       "      <th>8</th>\n",
       "      <th>9</th>\n",
       "      <th>...</th>\n",
       "      <th>22</th>\n",
       "      <th>23</th>\n",
       "      <th>24</th>\n",
       "      <th>25</th>\n",
       "      <th>26</th>\n",
       "      <th>27</th>\n",
       "      <th>28</th>\n",
       "      <th>29</th>\n",
       "      <th>label</th>\n",
       "      <th>qid</th>\n",
       "    </tr>\n",
       "  </thead>\n",
       "  <tbody>\n",
       "    <tr>\n",
       "      <th>0</th>\n",
       "      <td>-1.056717</td>\n",
       "      <td>1.542904</td>\n",
       "      <td>0.007806</td>\n",
       "      <td>-0.108805</td>\n",
       "      <td>-0.314601</td>\n",
       "      <td>-0.614218</td>\n",
       "      <td>-0.247800</td>\n",
       "      <td>-0.113072</td>\n",
       "      <td>-0.103461</td>\n",
       "      <td>-0.047664</td>\n",
       "      <td>...</td>\n",
       "      <td>-0.008989</td>\n",
       "      <td>-0.005157</td>\n",
       "      <td>0.006816</td>\n",
       "      <td>-0.005086</td>\n",
       "      <td>-0.009465</td>\n",
       "      <td>0.002644</td>\n",
       "      <td>-0.002169</td>\n",
       "      <td>-0.001671</td>\n",
       "      <td>0</td>\n",
       "      <td>10</td>\n",
       "    </tr>\n",
       "    <tr>\n",
       "      <th>1</th>\n",
       "      <td>1.611046</td>\n",
       "      <td>-0.078157</td>\n",
       "      <td>0.294150</td>\n",
       "      <td>0.456564</td>\n",
       "      <td>-0.265912</td>\n",
       "      <td>-0.435449</td>\n",
       "      <td>0.318119</td>\n",
       "      <td>0.383160</td>\n",
       "      <td>0.493884</td>\n",
       "      <td>-0.112852</td>\n",
       "      <td>...</td>\n",
       "      <td>0.208717</td>\n",
       "      <td>-0.077813</td>\n",
       "      <td>0.108366</td>\n",
       "      <td>-0.089617</td>\n",
       "      <td>-0.079675</td>\n",
       "      <td>-0.217938</td>\n",
       "      <td>0.064956</td>\n",
       "      <td>-0.001958</td>\n",
       "      <td>1</td>\n",
       "      <td>10</td>\n",
       "    </tr>\n",
       "    <tr>\n",
       "      <th>2</th>\n",
       "      <td>0.352293</td>\n",
       "      <td>-0.217723</td>\n",
       "      <td>0.146690</td>\n",
       "      <td>-0.194997</td>\n",
       "      <td>-0.063894</td>\n",
       "      <td>0.222456</td>\n",
       "      <td>0.524858</td>\n",
       "      <td>0.150317</td>\n",
       "      <td>-0.539734</td>\n",
       "      <td>-0.371434</td>\n",
       "      <td>...</td>\n",
       "      <td>0.257621</td>\n",
       "      <td>-0.048215</td>\n",
       "      <td>0.105549</td>\n",
       "      <td>0.033576</td>\n",
       "      <td>0.013007</td>\n",
       "      <td>-0.046722</td>\n",
       "      <td>-0.037341</td>\n",
       "      <td>0.009231</td>\n",
       "      <td>1</td>\n",
       "      <td>10</td>\n",
       "    </tr>\n",
       "    <tr>\n",
       "      <th>3</th>\n",
       "      <td>2.964902</td>\n",
       "      <td>-0.430472</td>\n",
       "      <td>0.841555</td>\n",
       "      <td>0.540019</td>\n",
       "      <td>-0.228760</td>\n",
       "      <td>0.271971</td>\n",
       "      <td>0.356130</td>\n",
       "      <td>0.438707</td>\n",
       "      <td>-0.296200</td>\n",
       "      <td>-0.696096</td>\n",
       "      <td>...</td>\n",
       "      <td>0.353577</td>\n",
       "      <td>-0.041400</td>\n",
       "      <td>0.026521</td>\n",
       "      <td>-0.089434</td>\n",
       "      <td>0.099191</td>\n",
       "      <td>-0.072052</td>\n",
       "      <td>-0.022056</td>\n",
       "      <td>-0.001479</td>\n",
       "      <td>1</td>\n",
       "      <td>10</td>\n",
       "    </tr>\n",
       "    <tr>\n",
       "      <th>4</th>\n",
       "      <td>0.250382</td>\n",
       "      <td>0.026524</td>\n",
       "      <td>-0.217508</td>\n",
       "      <td>-0.681980</td>\n",
       "      <td>0.029534</td>\n",
       "      <td>-0.404783</td>\n",
       "      <td>0.356254</td>\n",
       "      <td>0.118874</td>\n",
       "      <td>-0.672296</td>\n",
       "      <td>-0.282198</td>\n",
       "      <td>...</td>\n",
       "      <td>0.071875</td>\n",
       "      <td>-0.006183</td>\n",
       "      <td>0.118695</td>\n",
       "      <td>0.045890</td>\n",
       "      <td>0.063105</td>\n",
       "      <td>-0.086413</td>\n",
       "      <td>-0.057315</td>\n",
       "      <td>-0.002936</td>\n",
       "      <td>0</td>\n",
       "      <td>10</td>\n",
       "    </tr>\n",
       "  </tbody>\n",
       "</table>\n",
       "<p>5 rows × 32 columns</p>\n",
       "</div>"
      ],
      "text/plain": [
       "          0         1         2         3         4         5         6  \\\n",
       "0 -1.056717  1.542904  0.007806 -0.108805 -0.314601 -0.614218 -0.247800   \n",
       "1  1.611046 -0.078157  0.294150  0.456564 -0.265912 -0.435449  0.318119   \n",
       "2  0.352293 -0.217723  0.146690 -0.194997 -0.063894  0.222456  0.524858   \n",
       "3  2.964902 -0.430472  0.841555  0.540019 -0.228760  0.271971  0.356130   \n",
       "4  0.250382  0.026524 -0.217508 -0.681980  0.029534 -0.404783  0.356254   \n",
       "\n",
       "          7         8         9  ...        22        23        24        25  \\\n",
       "0 -0.113072 -0.103461 -0.047664  ... -0.008989 -0.005157  0.006816 -0.005086   \n",
       "1  0.383160  0.493884 -0.112852  ...  0.208717 -0.077813  0.108366 -0.089617   \n",
       "2  0.150317 -0.539734 -0.371434  ...  0.257621 -0.048215  0.105549  0.033576   \n",
       "3  0.438707 -0.296200 -0.696096  ...  0.353577 -0.041400  0.026521 -0.089434   \n",
       "4  0.118874 -0.672296 -0.282198  ...  0.071875 -0.006183  0.118695  0.045890   \n",
       "\n",
       "         26        27        28        29  label  qid  \n",
       "0 -0.009465  0.002644 -0.002169 -0.001671      0   10  \n",
       "1 -0.079675 -0.217938  0.064956 -0.001958      1   10  \n",
       "2  0.013007 -0.046722 -0.037341  0.009231      1   10  \n",
       "3  0.099191 -0.072052 -0.022056 -0.001479      1   10  \n",
       "4  0.063105 -0.086413 -0.057315 -0.002936      0   10  \n",
       "\n",
       "[5 rows x 32 columns]"
      ]
     },
     "metadata": {},
     "output_type": "display_data"
    }
   ],
   "source": [
    "def get_reduced_feature(pdf, n_components=N_COMPONENTS):\n",
    "    pca = PCA(n_components=n_components)\n",
    "    qid = pdf[['qid']]\n",
    "    label = pdf[['label']]\n",
    "    pdf = pdf.drop(['qid', 'label'], axis = 1)\n",
    "    pdf = pca.fit_transform(pdf)\n",
    "    pdf = pd.DataFrame(pdf)\n",
    "    pdf['label'] = label\n",
    "    pdf['qid'] = qid\n",
    "    return pdf\n",
    "\n",
    "reduced_feature_pdf = get_reduced_feature(norm_data_pdf)\n",
    "summery(reduced_feature_pdf)"
   ]
  },
  {
   "cell_type": "markdown",
   "id": "0e0f8f92",
   "metadata": {},
   "source": [
    "## Calculate Accuracy"
   ]
  },
  {
   "cell_type": "code",
   "execution_count": 22,
   "id": "c4f2ce43",
   "metadata": {
    "ExecuteTime": {
     "end_time": "2022-06-28T18:54:12.295378Z",
     "start_time": "2022-06-28T18:54:12.291844Z"
    }
   },
   "outputs": [],
   "source": [
    "def calculate_accuracy(y_pred_pdf, y_test_pdf):\n",
    "    pdf = y_pred_pdf.rename({'label':'label_predicted'}, axis=1)\n",
    "    pdf['label_true'] = y_test_pdf['label']\n",
    "    wrong_predicted_pdf = pdf[pdf['label_true'] != pdf['label_predicted']]\n",
    "    return 1 - len(wrong_predicted_pdf) / len(pdf)"
   ]
  },
  {
   "cell_type": "markdown",
   "id": "2656067d",
   "metadata": {},
   "source": [
    "# First Part"
   ]
  },
  {
   "cell_type": "markdown",
   "id": "96b0c233",
   "metadata": {},
   "source": [
    "## Models"
   ]
  },
  {
   "cell_type": "code",
   "execution_count": 23,
   "id": "f5e94ef8",
   "metadata": {
    "ExecuteTime": {
     "end_time": "2022-06-28T18:54:12.303466Z",
     "start_time": "2022-06-28T18:54:12.300054Z"
    }
   },
   "outputs": [],
   "source": [
    "MODELS = ['CLOSED_FROM', 'DUMMY_MODEL', 'SIMPLE_MODEL', \"BEST_MODEL\"]"
   ]
  },
  {
   "cell_type": "code",
   "execution_count": 24,
   "id": "0d8e9846",
   "metadata": {
    "ExecuteTime": {
     "end_time": "2022-06-28T18:54:12.317641Z",
     "start_time": "2022-06-28T18:54:12.306309Z"
    }
   },
   "outputs": [],
   "source": [
    "def get_best_scaler(y_train_pred, y_train):\n",
    "    best_upper_bound = 2\n",
    "    best_lower_bound = 0\n",
    "    best_acc = 0\n",
    "    for i in [x * 0.01 for x in range(100, 150)]:\n",
    "        for j in [yy * 0.01 for yy in range(0, 100)]:\n",
    "            y_scaled = [2 if y > i else 1 if y > j else 0 for y in y_train_pred]\n",
    "            delta = np.array(y_scaled) - np.array(y_train)\n",
    "            zeros = np.count_nonzero(delta==0)\n",
    "            acc=zeros/len(delta)\n",
    "            if acc > best_acc:\n",
    "                best_acc = acc\n",
    "                best_upper_bound = i\n",
    "                best_lower_bound = j\n",
    "    return best_upper_bound, best_lower_bound"
   ]
  },
  {
   "cell_type": "markdown",
   "id": "b97f5e0e",
   "metadata": {},
   "source": [
    "### Closed From"
   ]
  },
  {
   "cell_type": "code",
   "execution_count": 25,
   "id": "64838fc1",
   "metadata": {
    "ExecuteTime": {
     "end_time": "2022-06-28T18:54:12.332774Z",
     "start_time": "2022-06-28T18:54:12.320181Z"
    }
   },
   "outputs": [],
   "source": [
    "def get_colsed_form_prediction(data_pdf, scale):\n",
    "    norm_data_pdf = get_normalized_data(data_pdf)\n",
    "    reduced_feature_pdf = get_reduced_feature(norm_data_pdf)\n",
    "    x_matrix = reduced_feature_pdf.drop(['qid', 'label'], axis=1)\n",
    "    x_matrix.insert(0, 'bias', 1)\n",
    "    x_matrix = x_matrix.to_numpy()\n",
    "    y_matrix = reduced_feature_pdf['label'].to_numpy()\n",
    "    x_train, x_test, y_train, y_test = train_test_split(x_matrix, y_matrix, test_size=TEST_SIZE, random_state=RADNOM_STATE)\n",
    "    weighted_matrix = np.dot(np.linalg.inv(np.dot(x_train.T, x_train)), np.dot(x_train.T, y_train))\n",
    "    \n",
    "    y_train_pred = np.dot(x_train, weighted_matrix)\n",
    "    y_test_pred = np.dot(x_test, weighted_matrix)\n",
    "    y_test_pred_pdf = pd.DataFrame(y_test_pred).rename({0:'label'}, axis=1)\n",
    "    y_test_pdf = pd.DataFrame(y_test).rename({0:'label'}, axis=1)\n",
    "    \n",
    "    if scale:\n",
    "        best_x, best_y = get_best_scaler(y_train_pred, y_train)\n",
    "        y_categorized = [2 if y > best_x else 1 if y > best_y else 0 for y in y_test_pred]\n",
    "        y_test_pred_pdf['label'] = y_categorized\n",
    "    \n",
    "    return y_test_pred_pdf, y_test_pdf"
   ]
  },
  {
   "cell_type": "markdown",
   "id": "234b79f8",
   "metadata": {},
   "source": [
    "### Other"
   ]
  },
  {
   "cell_type": "code",
   "execution_count": 26,
   "id": "f5391676",
   "metadata": {
    "ExecuteTime": {
     "end_time": "2022-06-28T18:54:48.750483Z",
     "start_time": "2022-06-28T18:54:12.335808Z"
    }
   },
   "outputs": [],
   "source": [
    "def get_dummy_model_prediction(data_pdf):\n",
    "    labels_count = [\n",
    "        len(data_pdf[data_pdf['label'] == 0]),\n",
    "        len(data_pdf[data_pdf['label'] == 1]),\n",
    "        len(data_pdf[data_pdf['label'] == 2])\n",
    "    ]\n",
    "    max_label_count = max(labels_count)\n",
    "    most_commen_label = labels_count.index(max_label_count)\n",
    "    return most_commen_label\n",
    "\n",
    "def get_simple_model_prediction(x_train, x_test, y_train, y_test, scale, random_state=RADNOM_STATE):\n",
    "    sgd_rgresssion = SGDRegressor(random_state=random_state)\n",
    "    sgd_rgresssion.fit(x_train, y_train)\n",
    "    y_pred = sgd_rgresssion.predict(x_test)\n",
    "    y_pred_pdf = pd.DataFrame(y_pred)\n",
    "    y_pred_pdf = y_pred_pdf.rename({0:'label'}, axis=1)\n",
    "    if scale:\n",
    "        y_train_pred = sgd_rgresssion.predict(x_train)\n",
    "        best_x, best_y = get_best_scaler(y_train_pred, pd.DataFrame(y_train)['label'])\n",
    "        y_categorized = [2 if y > best_x else 1 if y > best_y else 0 for y in y_pred]\n",
    "        y_pred_pdf['label'] = y_categorized\n",
    "    y_test_pdf = pd.DataFrame(y_test).reset_index(drop=True)\n",
    "    return y_pred_pdf\n",
    "\n",
    "\n",
    "def get_prediction_and_test(data_pdf, model, scale=True,\n",
    "                            test_size=TEST_SIZE, random_state=RADNOM_STATE):\n",
    "    \n",
    "    if model == 'CLOSED_FROM':\n",
    "        return get_colsed_form_prediction(data_pdf, scale)\n",
    "    \n",
    "    if model == 'BEST_MODEL':\n",
    "        norm_data_pdf = get_normalized_data(data_pdf)\n",
    "        reduced_feature_pdf = get_reduced_feature(norm_data_pdf)\n",
    "        x_pdf = reduced_feature_pdf.drop(['qid', 'label'], axis = 1)\n",
    "        y_pdf = reduced_feature_pdf['label']\n",
    "        x_train, x_test, y_train, y_test = train_test_split(x_pdf , y_pdf, \n",
    "                                                            test_size=test_size, random_state=random_state)\n",
    "\n",
    "        x_train, y_train = smote.fit_resample(x_train, y_train)\n",
    "        sgd_rgresssion = SGDRegressor(random_state=random_state)\n",
    "        sgd_rgresssion.fit(x_train, y_train)\n",
    "        y_pred = sgd_rgresssion.predict(x_test)\n",
    "        y_pred_pdf = pd.DataFrame(y_pred)\n",
    "        y_pred_pdf = y_pred_pdf.rename({0:'label'}, axis=1)\n",
    "        if scale:\n",
    "            y_train_pred = sgd_rgresssion.predict(x_train)\n",
    "            best_x, best_y = get_best_scaler(y_train_pred, y_train)\n",
    "            y_categorized = [2 if y > best_x else 1 if y > best_y else 0 for y in y_pred]\n",
    "            y_pred_pdf['label'] = y_categorized\n",
    "        \n",
    "        y_test_pdf = pd.DataFrame(y_test).reset_index(drop=True)\n",
    "        \n",
    "        return y_pred_pdf, y_test_pdf\n",
    "    \n",
    "    x_pdf = data_pdf.drop(['qid', 'label'], axis = 1)\n",
    "    y_pdf = data_pdf[['label']]\n",
    "    x_train, x_test, y_train, y_test = train_test_split(x_pdf , y_pdf, \n",
    "                                                        test_size=test_size, random_state=random_state) \n",
    "    \n",
    "    if model == 'SIMPLE_MODEL':\n",
    "        y_pred_pdf = get_simple_model_prediction(x_train, x_test, y_train, y_test, scale)\n",
    "        \n",
    "    if model == 'DUMMY_MODEL':\n",
    "        most_commen_label = get_dummy_model_prediction(y_train)\n",
    "        y_pred = np.empty(len(x_test))\n",
    "        y_pred.fill(most_commen_label)\n",
    "        y_pred_pdf = pd.DataFrame(y_pred)\n",
    "        y_pred_pdf = y_pred_pdf.rename({0:'label'}, axis=1)\n",
    "        \n",
    "    y_test_pdf = pd.DataFrame(y_test).reset_index(drop=True)\n",
    "        \n",
    "    return y_pred_pdf, y_test_pdf"
   ]
  },
  {
   "cell_type": "markdown",
   "id": "e042620f",
   "metadata": {},
   "source": [
    "## Evaluation"
   ]
  },
  {
   "cell_type": "code",
   "execution_count": 27,
   "id": "8d88792f",
   "metadata": {
    "ExecuteTime": {
     "end_time": "2022-06-28T18:57:14.784326Z",
     "start_time": "2022-06-28T18:54:48.751790Z"
    }
   },
   "outputs": [
    {
     "name": "stdout",
     "output_type": "stream",
     "text": [
      "accuracy for CLOSED_FROM = 0.7561669829222011\n",
      "accuracy for DUMMY_MODEL = 0.7535578747628083\n",
      "accuracy for SIMPLE_MODEL = 0.7535578747628083\n",
      "accuracy for BEST_MODEL = 0.519331119544592\n"
     ]
    }
   ],
   "source": [
    "for model in MODELS:\n",
    "    y_pred_pdf, y_test_pdf = get_prediction_and_test(data_pdf, model)\n",
    "    accuracy = calculate_accuracy(y_pred_pdf, y_test_pdf)\n",
    "    print(f\"accuracy for {model} = {accuracy}\")"
   ]
  },
  {
   "cell_type": "markdown",
   "id": "34a642ed",
   "metadata": {},
   "source": [
    "<font color='Red'>\n",
    "    <div style=style=\"font-size: 25px\"> \n",
    "        Conclusion\n",
    "    </div>\n",
    "</font>"
   ]
  },
  {
   "cell_type": "markdown",
   "id": "757d053c",
   "metadata": {},
   "source": [
    "In the first part, we have implemented four different models. First, we used the Closed-form to calculate the optimum weights vector of linear regression. After that, we have three models; the Dummy model, the Simple model, and the Best model. The Dummy model constantly predicts the labels regarding the most frequent train label. The other two models are linear regression models. The Simple model trained on original data, but, Our Best model used data normalizing, feature reduction, and oversampling to achieve better generalization.\n",
    "At the evaluation step, for the Dummy and the Simple models, we got the same accuracy as Closed-form. It's because of having a high percentage of 0s in train labels. Besides that, having less accuracy in our Best model compared to the other models doesn't necessarily mean that they are more powerful models to use. On the other hand, our Best model has better generalization due to oversampling and handles less probable data."
   ]
  },
  {
   "cell_type": "markdown",
   "id": "60a31386",
   "metadata": {},
   "source": [
    "# Second Part"
   ]
  },
  {
   "cell_type": "markdown",
   "id": "fd2555c8",
   "metadata": {},
   "source": [
    "### Prepare DataSet"
   ]
  },
  {
   "cell_type": "markdown",
   "id": "75fcd567",
   "metadata": {},
   "source": [
    "#### Convert Pandas Data Frame to PySpark Data Frame "
   ]
  },
  {
   "cell_type": "code",
   "execution_count": 28,
   "id": "dad8d5b5",
   "metadata": {
    "ExecuteTime": {
     "end_time": "2022-06-28T18:57:19.824557Z",
     "start_time": "2022-06-28T18:57:14.785565Z"
    }
   },
   "outputs": [
    {
     "name": "stdout",
     "output_type": "stream",
     "text": [
      "root\n",
      " |-- 0: string (nullable = true)\n",
      " |-- 1: string (nullable = true)\n",
      " |-- 2: string (nullable = true)\n",
      " |-- 3: string (nullable = true)\n",
      " |-- 4: string (nullable = true)\n",
      " |-- 5: string (nullable = true)\n",
      " |-- 6: string (nullable = true)\n",
      " |-- 7: string (nullable = true)\n",
      " |-- 8: string (nullable = true)\n",
      " |-- 9: string (nullable = true)\n",
      " |-- 10: string (nullable = true)\n",
      " |-- 11: string (nullable = true)\n",
      " |-- 12: string (nullable = true)\n",
      " |-- 13: string (nullable = true)\n",
      " |-- 14: string (nullable = true)\n",
      " |-- 15: string (nullable = true)\n",
      " |-- 16: string (nullable = true)\n",
      " |-- 17: string (nullable = true)\n",
      " |-- 18: string (nullable = true)\n",
      " |-- 19: string (nullable = true)\n",
      " |-- 20: string (nullable = true)\n",
      " |-- 21: string (nullable = true)\n",
      " |-- 22: string (nullable = true)\n",
      " |-- 23: string (nullable = true)\n",
      " |-- 24: string (nullable = true)\n",
      " |-- 25: string (nullable = true)\n",
      " |-- 26: string (nullable = true)\n",
      " |-- 27: string (nullable = true)\n",
      " |-- 28: string (nullable = true)\n",
      " |-- 29: string (nullable = true)\n",
      " |-- label: string (nullable = true)\n",
      " |-- qid: string (nullable = true)\n",
      "\n"
     ]
    }
   ],
   "source": [
    "CLEAN_DATA_PATH = './reduced_feature_pdf.csv'\n",
    "\n",
    "def write_pandas_data_frame(pdf, path=CLEAN_DATA_PATH):\n",
    "    pdf.to_csv(path, index=False)\n",
    "\n",
    "def read_clean_data_df(path=CLEAN_DATA_PATH):\n",
    "    return spark.read.csv(path, header=True)\n",
    "\n",
    "\n",
    "reduced_feature_pdf = get_reduced_feature(data_pdf)\n",
    "    \n",
    "write_pandas_data_frame(reduced_feature_pdf)\n",
    "clean_data_df = read_clean_data_df()\n",
    "clean_data_df.printSchema()"
   ]
  },
  {
   "cell_type": "markdown",
   "id": "d5798ebb",
   "metadata": {},
   "source": [
    "#### Buliding Customized Data Frame"
   ]
  },
  {
   "cell_type": "code",
   "execution_count": 29,
   "id": "1eab3b8b",
   "metadata": {
    "ExecuteTime": {
     "end_time": "2022-06-28T18:57:21.214483Z",
     "start_time": "2022-06-28T18:57:19.826256Z"
    }
   },
   "outputs": [],
   "source": [
    "columns = clean_data_df.columns\n",
    "columns.remove('qid')\n",
    "clean_data_j_df = clean_data_df\n",
    "for column in columns:\n",
    "    clean_data_j_df = clean_data_j_df.withColumn(column, F.round(F.col(column).cast('float'), 7))\n",
    "    clean_data_j_df = clean_data_j_df.withColumnRenamed(column, str(column + \"_j\"))\n",
    "    \n",
    "clean_data_i_df = clean_data_df\n",
    "for column in columns:\n",
    "    clean_data_i_df = clean_data_i_df.withColumn(column, F.round(F.col(column).cast('float'), 7))\n",
    "    clean_data_i_df = clean_data_i_df.withColumnRenamed(column, str(column + \"_i\"))    "
   ]
  },
  {
   "cell_type": "markdown",
   "id": "1f9aad64",
   "metadata": {},
   "source": [
    "#### Convert PySpark Data Frame to Pandas Data Frame"
   ]
  },
  {
   "cell_type": "code",
   "execution_count": 30,
   "id": "4df030bc",
   "metadata": {
    "ExecuteTime": {
     "end_time": "2022-06-28T18:57:45.431771Z",
     "start_time": "2022-06-28T18:57:21.215798Z"
    }
   },
   "outputs": [
    {
     "data": {
      "text/html": [
       "<div>\n",
       "<style scoped>\n",
       "    .dataframe tbody tr th:only-of-type {\n",
       "        vertical-align: middle;\n",
       "    }\n",
       "\n",
       "    .dataframe tbody tr th {\n",
       "        vertical-align: top;\n",
       "    }\n",
       "\n",
       "    .dataframe thead th {\n",
       "        text-align: right;\n",
       "    }\n",
       "</style>\n",
       "<table border=\"1\" class=\"dataframe\">\n",
       "  <thead>\n",
       "    <tr style=\"text-align: right;\">\n",
       "      <th></th>\n",
       "      <th>0_i</th>\n",
       "      <th>1_i</th>\n",
       "      <th>2_i</th>\n",
       "      <th>3_i</th>\n",
       "      <th>4_i</th>\n",
       "      <th>5_i</th>\n",
       "      <th>6_i</th>\n",
       "      <th>7_i</th>\n",
       "      <th>8_i</th>\n",
       "      <th>9_i</th>\n",
       "      <th>...</th>\n",
       "      <th>21_j</th>\n",
       "      <th>22_j</th>\n",
       "      <th>23_j</th>\n",
       "      <th>24_j</th>\n",
       "      <th>25_j</th>\n",
       "      <th>26_j</th>\n",
       "      <th>27_j</th>\n",
       "      <th>28_j</th>\n",
       "      <th>29_j</th>\n",
       "      <th>label</th>\n",
       "    </tr>\n",
       "  </thead>\n",
       "  <tbody>\n",
       "    <tr>\n",
       "      <th>0</th>\n",
       "      <td>-1.056717</td>\n",
       "      <td>1.542904</td>\n",
       "      <td>0.007806</td>\n",
       "      <td>-0.108805</td>\n",
       "      <td>-0.314601</td>\n",
       "      <td>-0.614218</td>\n",
       "      <td>-0.2478</td>\n",
       "      <td>-0.113072</td>\n",
       "      <td>-0.103461</td>\n",
       "      <td>-0.047664</td>\n",
       "      <td>...</td>\n",
       "      <td>0.026672</td>\n",
       "      <td>0.035257</td>\n",
       "      <td>-0.026566</td>\n",
       "      <td>0.099024</td>\n",
       "      <td>0.048289</td>\n",
       "      <td>-0.012059</td>\n",
       "      <td>-0.005195</td>\n",
       "      <td>-0.002878</td>\n",
       "      <td>0.001886</td>\n",
       "      <td>0</td>\n",
       "    </tr>\n",
       "    <tr>\n",
       "      <th>1</th>\n",
       "      <td>-1.056717</td>\n",
       "      <td>1.542904</td>\n",
       "      <td>0.007806</td>\n",
       "      <td>-0.108805</td>\n",
       "      <td>-0.314601</td>\n",
       "      <td>-0.614218</td>\n",
       "      <td>-0.2478</td>\n",
       "      <td>-0.113072</td>\n",
       "      <td>-0.103461</td>\n",
       "      <td>-0.047664</td>\n",
       "      <td>...</td>\n",
       "      <td>-0.032514</td>\n",
       "      <td>-0.010181</td>\n",
       "      <td>0.125824</td>\n",
       "      <td>0.017389</td>\n",
       "      <td>-0.071898</td>\n",
       "      <td>0.016806</td>\n",
       "      <td>0.020825</td>\n",
       "      <td>-0.002636</td>\n",
       "      <td>-0.006421</td>\n",
       "      <td>0</td>\n",
       "    </tr>\n",
       "    <tr>\n",
       "      <th>2</th>\n",
       "      <td>-1.056717</td>\n",
       "      <td>1.542904</td>\n",
       "      <td>0.007806</td>\n",
       "      <td>-0.108805</td>\n",
       "      <td>-0.314601</td>\n",
       "      <td>-0.614218</td>\n",
       "      <td>-0.2478</td>\n",
       "      <td>-0.113072</td>\n",
       "      <td>-0.103461</td>\n",
       "      <td>-0.047664</td>\n",
       "      <td>...</td>\n",
       "      <td>0.073673</td>\n",
       "      <td>0.333730</td>\n",
       "      <td>0.009107</td>\n",
       "      <td>0.084283</td>\n",
       "      <td>0.081716</td>\n",
       "      <td>-0.007206</td>\n",
       "      <td>-0.003738</td>\n",
       "      <td>-0.029266</td>\n",
       "      <td>-0.007074</td>\n",
       "      <td>0</td>\n",
       "    </tr>\n",
       "    <tr>\n",
       "      <th>3</th>\n",
       "      <td>-1.056717</td>\n",
       "      <td>1.542904</td>\n",
       "      <td>0.007806</td>\n",
       "      <td>-0.108805</td>\n",
       "      <td>-0.314601</td>\n",
       "      <td>-0.614218</td>\n",
       "      <td>-0.2478</td>\n",
       "      <td>-0.113072</td>\n",
       "      <td>-0.103461</td>\n",
       "      <td>-0.047664</td>\n",
       "      <td>...</td>\n",
       "      <td>0.028087</td>\n",
       "      <td>0.073016</td>\n",
       "      <td>-0.002840</td>\n",
       "      <td>0.112950</td>\n",
       "      <td>0.051774</td>\n",
       "      <td>-0.013672</td>\n",
       "      <td>-0.005325</td>\n",
       "      <td>-0.001095</td>\n",
       "      <td>-0.001373</td>\n",
       "      <td>0</td>\n",
       "    </tr>\n",
       "    <tr>\n",
       "      <th>4</th>\n",
       "      <td>-1.056717</td>\n",
       "      <td>1.542904</td>\n",
       "      <td>0.007806</td>\n",
       "      <td>-0.108805</td>\n",
       "      <td>-0.314601</td>\n",
       "      <td>-0.614218</td>\n",
       "      <td>-0.2478</td>\n",
       "      <td>-0.113072</td>\n",
       "      <td>-0.103461</td>\n",
       "      <td>-0.047664</td>\n",
       "      <td>...</td>\n",
       "      <td>-0.107958</td>\n",
       "      <td>0.135215</td>\n",
       "      <td>-0.159903</td>\n",
       "      <td>0.154537</td>\n",
       "      <td>0.094420</td>\n",
       "      <td>-0.018149</td>\n",
       "      <td>-0.011984</td>\n",
       "      <td>-0.011474</td>\n",
       "      <td>0.027534</td>\n",
       "      <td>0</td>\n",
       "    </tr>\n",
       "  </tbody>\n",
       "</table>\n",
       "<p>5 rows × 61 columns</p>\n",
       "</div>"
      ],
      "text/plain": [
       "        0_i       1_i       2_i       3_i       4_i       5_i     6_i  \\\n",
       "0 -1.056717  1.542904  0.007806 -0.108805 -0.314601 -0.614218 -0.2478   \n",
       "1 -1.056717  1.542904  0.007806 -0.108805 -0.314601 -0.614218 -0.2478   \n",
       "2 -1.056717  1.542904  0.007806 -0.108805 -0.314601 -0.614218 -0.2478   \n",
       "3 -1.056717  1.542904  0.007806 -0.108805 -0.314601 -0.614218 -0.2478   \n",
       "4 -1.056717  1.542904  0.007806 -0.108805 -0.314601 -0.614218 -0.2478   \n",
       "\n",
       "        7_i       8_i       9_i  ...      21_j      22_j      23_j      24_j  \\\n",
       "0 -0.113072 -0.103461 -0.047664  ...  0.026672  0.035257 -0.026566  0.099024   \n",
       "1 -0.113072 -0.103461 -0.047664  ... -0.032514 -0.010181  0.125824  0.017389   \n",
       "2 -0.113072 -0.103461 -0.047664  ...  0.073673  0.333730  0.009107  0.084283   \n",
       "3 -0.113072 -0.103461 -0.047664  ...  0.028087  0.073016 -0.002840  0.112950   \n",
       "4 -0.113072 -0.103461 -0.047664  ... -0.107958  0.135215 -0.159903  0.154537   \n",
       "\n",
       "       25_j      26_j      27_j      28_j      29_j  label  \n",
       "0  0.048289 -0.012059 -0.005195 -0.002878  0.001886      0  \n",
       "1 -0.071898  0.016806  0.020825 -0.002636 -0.006421      0  \n",
       "2  0.081716 -0.007206 -0.003738 -0.029266 -0.007074      0  \n",
       "3  0.051774 -0.013672 -0.005325 -0.001095 -0.001373      0  \n",
       "4  0.094420 -0.018149 -0.011984 -0.011474  0.027534      0  \n",
       "\n",
       "[5 rows x 61 columns]"
      ]
     },
     "metadata": {},
     "output_type": "display_data"
    }
   ],
   "source": [
    "part_two_data_pdf = (\n",
    "    clean_data_i_df\n",
    "    .join(clean_data_j_df.drop('index'), on='qid')\n",
    "    .filter(F.col('label_i') != F.col('label_j'))\n",
    "    .withColumn('label', F.when(F.col('label_i') > F.col('label_j'), F.lit(1)).otherwise(F.lit(0)))\n",
    "    .drop('label_i', 'label_j', 'qid')\n",
    "    .toPandas()\n",
    ")\n",
    "summery(part_two_data_pdf)"
   ]
  },
  {
   "cell_type": "markdown",
   "id": "c4f30d94",
   "metadata": {},
   "source": [
    "## Model"
   ]
  },
  {
   "cell_type": "code",
   "execution_count": 35,
   "id": "647cf663",
   "metadata": {
    "ExecuteTime": {
     "end_time": "2022-06-28T19:02:33.516170Z",
     "start_time": "2022-06-28T19:02:33.509802Z"
    }
   },
   "outputs": [],
   "source": [
    "def get_logestic_regression_prediction(part_two_data_pdf):\n",
    "    logistic_x_data = part_two_data_pdf.drop('label', axis=1)\n",
    "    logistic_y_data = part_two_data_pdf[['label']]\n",
    "\n",
    "    logistic_x_train, logistic_x_test, logistic_y_train, logistic_y_test = train_test_split(logistic_x_data , logistic_y_data, test_size=0.20, random_state=42)\n",
    "\n",
    "\n",
    "    sgd_rgresssion = LogisticRegression(random_state=42)\n",
    "    sgd_rgresssion.fit(logistic_x_train, logistic_y_train)\n",
    "    y_pred = sgd_rgresssion.predict(logistic_x_test)\n",
    "    y_pred_pdf = pd.DataFrame(y_pred)\n",
    "    y_pred_pdf = y_pred_pdf.rename(columns = {0:'label'})\n",
    "\n",
    "    logistic_y_test_pdf = pd.DataFrame(logistic_y_test).reset_index(drop=True)\n",
    "\n",
    "    return y_pred_pdf, logistic_y_test_pdf"
   ]
  },
  {
   "cell_type": "markdown",
   "id": "d9740da7",
   "metadata": {},
   "source": [
    "## Evaluation"
   ]
  },
  {
   "cell_type": "code",
   "execution_count": 37,
   "id": "e40b8066",
   "metadata": {
    "ExecuteTime": {
     "end_time": "2022-06-28T19:03:03.273130Z",
     "start_time": "2022-06-28T19:02:57.370278Z"
    }
   },
   "outputs": [
    {
     "name": "stdout",
     "output_type": "stream",
     "text": [
      "accuracy for Logestic Regression Model = 0.7077718838282219\n"
     ]
    }
   ],
   "source": [
    "logistic_y_pred_pdf, logistic_y_test_pdf = get_logestic_regression_prediction(part_two_data_pdf)\n",
    "print(f\"accuracy for Logestic Regression Model = {calculate_accuracy(logistic_y_pred_pdf, logistic_y_test_pdf)}\")"
   ]
  }
 ],
 "metadata": {
  "kernelspec": {
   "display_name": "Python 3",
   "language": "python",
   "name": "python3"
  },
  "language_info": {
   "codemirror_mode": {
    "name": "ipython",
    "version": 3
   },
   "file_extension": ".py",
   "mimetype": "text/x-python",
   "name": "python",
   "nbconvert_exporter": "python",
   "pygments_lexer": "ipython3",
   "version": "3.8.10"
  },
  "toc": {
   "base_numbering": 1,
   "nav_menu": {},
   "number_sections": true,
   "sideBar": true,
   "skip_h1_title": false,
   "title_cell": "Table of Contents",
   "title_sidebar": "Contents",
   "toc_cell": false,
   "toc_position": {},
   "toc_section_display": true,
   "toc_window_display": true
  },
  "varInspector": {
   "cols": {
    "lenName": 16,
    "lenType": 16,
    "lenVar": 40
   },
   "kernels_config": {
    "python": {
     "delete_cmd_postfix": "",
     "delete_cmd_prefix": "del ",
     "library": "var_list.py",
     "varRefreshCmd": "print(var_dic_list())"
    },
    "r": {
     "delete_cmd_postfix": ") ",
     "delete_cmd_prefix": "rm(",
     "library": "var_list.r",
     "varRefreshCmd": "cat(var_dic_list()) "
    }
   },
   "types_to_exclude": [
    "module",
    "function",
    "builtin_function_or_method",
    "instance",
    "_Feature"
   ],
   "window_display": false
  }
 },
 "nbformat": 4,
 "nbformat_minor": 5
}
